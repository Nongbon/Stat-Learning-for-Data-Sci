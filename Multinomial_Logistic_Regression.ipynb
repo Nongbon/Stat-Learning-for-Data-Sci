{
  "nbformat": 4,
  "nbformat_minor": 0,
  "metadata": {
    "colab": {
      "name": "Multinomial_Logistic_Regression.ipynb",
      "provenance": [],
      "collapsed_sections": [],
      "include_colab_link": true
    },
    "kernelspec": {
      "name": "python3",
      "display_name": "Python 3"
    }
  },
  "cells": [
    {
      "cell_type": "markdown",
      "metadata": {
        "id": "view-in-github",
        "colab_type": "text"
      },
      "source": [
        "<a href=\"https://colab.research.google.com/github/Nongbon/Stat-Learning-for-Data-Sci/blob/main/Multinomial_Logistic_Regression.ipynb\" target=\"_parent\"><img src=\"https://colab.research.google.com/assets/colab-badge.svg\" alt=\"Open In Colab\"/></a>"
      ]
    },
    {
      "cell_type": "code",
      "metadata": {
        "id": "TqkX79Jfgv6K"
      },
      "source": [
        "%%capture\n",
        "import pandas as pd \n",
        "import numpy as np \n",
        "import scipy as scp\n",
        "import sklearn\n",
        "import statsmodels.api as sm\n",
        "import statsmodels.formula.api as smf\n",
        "import matplotlib.pyplot as plt\n",
        "from sklearn import metrics\n",
        "from sklearn.model_selection import train_test_split\n",
        "from sklearn.linear_model import LogisticRegression\n",
        "from sklearn.metrics import confusion_matrix, classification_report"
      ],
      "execution_count": 1,
      "outputs": []
    },
    {
      "cell_type": "code",
      "metadata": {
        "colab": {
          "base_uri": "https://localhost:8080/"
        },
        "id": "hpFjSNCu1OlM",
        "outputId": "ca0bb750-7725-4605-f3e4-b4f7b0e0da4b"
      },
      "source": [
        "!wget https://raw.githubusercontent.com/Nongbon/Stat-Learning-for-Data-Sci/main/Data/abalone.csv"
      ],
      "execution_count": 5,
      "outputs": [
        {
          "output_type": "stream",
          "text": [
            "--2021-06-14 18:42:53--  https://raw.githubusercontent.com/Nongbon/Stat-Learning-for-Data-Sci/main/Data/abalone.csv\n",
            "Resolving raw.githubusercontent.com (raw.githubusercontent.com)... 185.199.108.133, 185.199.109.133, 185.199.110.133, ...\n",
            "Connecting to raw.githubusercontent.com (raw.githubusercontent.com)|185.199.108.133|:443... connected.\n",
            "HTTP request sent, awaiting response... 200 OK\n",
            "Length: 191928 (187K) [text/plain]\n",
            "Saving to: ‘abalone.csv’\n",
            "\n",
            "abalone.csv         100%[===================>] 187.43K  --.-KB/s    in 0.03s   \n",
            "\n",
            "2021-06-14 18:42:53 (6.03 MB/s) - ‘abalone.csv’ saved [191928/191928]\n",
            "\n"
          ],
          "name": "stdout"
        }
      ]
    },
    {
      "cell_type": "code",
      "metadata": {
        "id": "SA80gS7zgUrC",
        "colab": {
          "base_uri": "https://localhost:8080/",
          "height": 204
        },
        "outputId": "3bdac3f0-c315-4737-c064-11d3815fd88c"
      },
      "source": [
        "abalone_df = pd.read_csv('abalone.csv',  delimiter=',') \n",
        "abalone_df.head()"
      ],
      "execution_count": 6,
      "outputs": [
        {
          "output_type": "execute_result",
          "data": {
            "text/html": [
              "<div>\n",
              "<style scoped>\n",
              "    .dataframe tbody tr th:only-of-type {\n",
              "        vertical-align: middle;\n",
              "    }\n",
              "\n",
              "    .dataframe tbody tr th {\n",
              "        vertical-align: top;\n",
              "    }\n",
              "\n",
              "    .dataframe thead th {\n",
              "        text-align: right;\n",
              "    }\n",
              "</style>\n",
              "<table border=\"1\" class=\"dataframe\">\n",
              "  <thead>\n",
              "    <tr style=\"text-align: right;\">\n",
              "      <th></th>\n",
              "      <th>SEX</th>\n",
              "      <th>LENGTH</th>\n",
              "      <th>DIAM</th>\n",
              "      <th>HEIGHT</th>\n",
              "      <th>WHOLE</th>\n",
              "      <th>SHUCK</th>\n",
              "      <th>VISCERA</th>\n",
              "      <th>SHELL</th>\n",
              "      <th>RINGS</th>\n",
              "    </tr>\n",
              "  </thead>\n",
              "  <tbody>\n",
              "    <tr>\n",
              "      <th>0</th>\n",
              "      <td>M</td>\n",
              "      <td>0.455</td>\n",
              "      <td>0.365</td>\n",
              "      <td>0.095</td>\n",
              "      <td>0.5140</td>\n",
              "      <td>0.2245</td>\n",
              "      <td>0.1010</td>\n",
              "      <td>0.150</td>\n",
              "      <td>15</td>\n",
              "    </tr>\n",
              "    <tr>\n",
              "      <th>1</th>\n",
              "      <td>M</td>\n",
              "      <td>0.350</td>\n",
              "      <td>0.265</td>\n",
              "      <td>0.090</td>\n",
              "      <td>0.2255</td>\n",
              "      <td>0.0995</td>\n",
              "      <td>0.0485</td>\n",
              "      <td>0.070</td>\n",
              "      <td>7</td>\n",
              "    </tr>\n",
              "    <tr>\n",
              "      <th>2</th>\n",
              "      <td>F</td>\n",
              "      <td>0.530</td>\n",
              "      <td>0.420</td>\n",
              "      <td>0.135</td>\n",
              "      <td>0.6770</td>\n",
              "      <td>0.2565</td>\n",
              "      <td>0.1415</td>\n",
              "      <td>0.210</td>\n",
              "      <td>9</td>\n",
              "    </tr>\n",
              "    <tr>\n",
              "      <th>3</th>\n",
              "      <td>M</td>\n",
              "      <td>0.440</td>\n",
              "      <td>0.365</td>\n",
              "      <td>0.125</td>\n",
              "      <td>0.5160</td>\n",
              "      <td>0.2155</td>\n",
              "      <td>0.1140</td>\n",
              "      <td>0.155</td>\n",
              "      <td>10</td>\n",
              "    </tr>\n",
              "    <tr>\n",
              "      <th>4</th>\n",
              "      <td>I</td>\n",
              "      <td>0.330</td>\n",
              "      <td>0.255</td>\n",
              "      <td>0.080</td>\n",
              "      <td>0.2050</td>\n",
              "      <td>0.0895</td>\n",
              "      <td>0.0395</td>\n",
              "      <td>0.055</td>\n",
              "      <td>7</td>\n",
              "    </tr>\n",
              "  </tbody>\n",
              "</table>\n",
              "</div>"
            ],
            "text/plain": [
              "  SEX  LENGTH   DIAM  HEIGHT   WHOLE   SHUCK  VISCERA  SHELL  RINGS\n",
              "0   M   0.455  0.365   0.095  0.5140  0.2245   0.1010  0.150     15\n",
              "1   M   0.350  0.265   0.090  0.2255  0.0995   0.0485  0.070      7\n",
              "2   F   0.530  0.420   0.135  0.6770  0.2565   0.1415  0.210      9\n",
              "3   M   0.440  0.365   0.125  0.5160  0.2155   0.1140  0.155     10\n",
              "4   I   0.330  0.255   0.080  0.2050  0.0895   0.0395  0.055      7"
            ]
          },
          "metadata": {
            "tags": []
          },
          "execution_count": 6
        }
      ]
    },
    {
      "cell_type": "code",
      "metadata": {
        "id": "dwrIL4mCiftw",
        "colab": {
          "base_uri": "https://localhost:8080/"
        },
        "outputId": "f7a267f0-5e39-4a26-ccf9-12aa281af621"
      },
      "source": [
        "#Create training and test datasets\n",
        "#CLASS needs to be dropped\n",
        "X = abalone_df.drop(['SEX'], axis=1) \n",
        "y = abalone_df['SEX']\n",
        "\n",
        "print(list(X.columns.values)) \n",
        "\n",
        "X_train, X_test, y_train, y_test = sklearn.model_selection.train_test_split(X, y, test_size = 0.20, random_state = 5)\n",
        "print(X_train.shape)\n",
        "print(X_test.shape)\n",
        "print(y_train.shape)\n",
        "print(y_test.shape)"
      ],
      "execution_count": null,
      "outputs": [
        {
          "output_type": "stream",
          "text": [
            "['LENGTH', 'DIAM', 'HEIGHT', 'WHOLE', 'SHUCK', 'VISCERA', 'SHELL', 'RINGS']\n",
            "(3341, 8)\n",
            "(836, 8)\n",
            "(3341,)\n",
            "(836,)\n"
          ],
          "name": "stdout"
        }
      ]
    },
    {
      "cell_type": "code",
      "metadata": {
        "id": "sZzGT-Mmijux",
        "colab": {
          "base_uri": "https://localhost:8080/"
        },
        "outputId": "1f5ab7d5-db6e-499c-c323-c1c461115c01"
      },
      "source": [
        "model1 = LogisticRegression(random_state=0, multi_class='multinomial', penalty='none', solver='newton-cg').fit(X_train, y_train)\n",
        "preds = model1.predict(X_test)\n",
        "\n",
        "#print the tunable parameters (They were not tuned in this example, everything kept as default)\n",
        "params = model1.get_params()\n",
        "print(params)"
      ],
      "execution_count": null,
      "outputs": [
        {
          "output_type": "stream",
          "text": [
            "{'C': 1.0, 'class_weight': None, 'dual': False, 'fit_intercept': True, 'intercept_scaling': 1, 'l1_ratio': None, 'max_iter': 100, 'multi_class': 'multinomial', 'n_jobs': None, 'penalty': 'none', 'random_state': 0, 'solver': 'newton-cg', 'tol': 0.0001, 'verbose': 0, 'warm_start': False}\n"
          ],
          "name": "stdout"
        }
      ]
    },
    {
      "cell_type": "code",
      "metadata": {
        "id": "OxiyxlOHinn5",
        "colab": {
          "base_uri": "https://localhost:8080/"
        },
        "outputId": "c54eb329-944b-495d-c613-b8991852a487"
      },
      "source": [
        "#Print model parameters\n",
        "print('Intercept: \\n', model1.intercept_)\n",
        "print('Coefficients: \\n', model1.coef_)"
      ],
      "execution_count": null,
      "outputs": [
        {
          "output_type": "stream",
          "text": [
            "Intercept: \n",
            " [-1.78721895  1.04125279  0.74596616]\n",
            "Coefficients: \n",
            " [[-6.14593444  6.60730526  3.92919881  1.87257551 -2.6689075   5.98939578\n",
            "  -1.506308    0.06142572]\n",
            " [12.17943543 -6.83043884 -5.45062605 -4.22198844  2.79759309 -8.49325795\n",
            "   3.09534916 -0.12236149]\n",
            " [-6.03350099  0.22313358  1.52142723  2.34941293 -0.12868559  2.50386217\n",
            "  -1.58904116  0.06093578]]\n"
          ],
          "name": "stdout"
        }
      ]
    },
    {
      "cell_type": "code",
      "metadata": {
        "id": "pd7eHxZgi51F",
        "colab": {
          "base_uri": "https://localhost:8080/"
        },
        "outputId": "24a4934b-074d-42e2-bef3-adc4646e8814"
      },
      "source": [
        "#Calculate odds ratio estimates\n",
        "import numpy as np\n",
        "np.exp(model1.coef_)"
      ],
      "execution_count": null,
      "outputs": [
        {
          "output_type": "execute_result",
          "data": {
            "text/plain": [
              "array([[2.14217323e-03, 7.40484917e+02, 5.08662080e+01, 6.50502858e+00,\n",
              "        6.93279247e-02, 3.99173348e+02, 2.21727086e-01, 1.06335151e+00],\n",
              "       [1.94742885e+05, 1.08038390e-03, 4.29361584e-03, 1.46694462e-02,\n",
              "        1.64051135e+01, 2.04844798e-04, 2.20949518e+01, 8.84828450e-01],\n",
              "       [2.39708709e-03, 1.24998753e+00, 4.57875549e+00, 1.04794158e+01,\n",
              "        8.79250371e-01, 1.22296358e+01, 2.04121237e-01, 1.06283065e+00]])"
            ]
          },
          "metadata": {
            "tags": []
          },
          "execution_count": 6
        }
      ]
    },
    {
      "cell_type": "code",
      "metadata": {
        "colab": {
          "base_uri": "https://localhost:8080/",
          "height": 142
        },
        "id": "l2cCN-b5kLhN",
        "outputId": "45faea09-58d2-4306-8af0-a5b61130125c"
      },
      "source": [
        "#Create a confusion matrix\n",
        "#y_test as first argument and the preds as second argument \n",
        "confusion_matrix(y_test, preds)\n",
        "\n",
        "#transform confusion matrix into array\n",
        "#the matrix is stored in a vaiable called confmtrx\n",
        "confmtrx = np.array(confusion_matrix(y_test, preds))\n",
        "#Create DataFrame from confmtrx array \n",
        "#rows for test: Male, Female, Infant designation as index \n",
        "#columns for preds: male, predicted_female, predicted_infant as column\n",
        "\n",
        "pd.DataFrame(confmtrx, index=['Female','Infant', 'Male'],\n",
        "columns=['predicted_Female', 'predicted_Infant', 'predicted_Male'])\n"
      ],
      "execution_count": null,
      "outputs": [
        {
          "output_type": "execute_result",
          "data": {
            "text/html": [
              "<div>\n",
              "<style scoped>\n",
              "    .dataframe tbody tr th:only-of-type {\n",
              "        vertical-align: middle;\n",
              "    }\n",
              "\n",
              "    .dataframe tbody tr th {\n",
              "        vertical-align: top;\n",
              "    }\n",
              "\n",
              "    .dataframe thead th {\n",
              "        text-align: right;\n",
              "    }\n",
              "</style>\n",
              "<table border=\"1\" class=\"dataframe\">\n",
              "  <thead>\n",
              "    <tr style=\"text-align: right;\">\n",
              "      <th></th>\n",
              "      <th>predicted_Female</th>\n",
              "      <th>predicted_Infant</th>\n",
              "      <th>predicted_Male</th>\n",
              "    </tr>\n",
              "  </thead>\n",
              "  <tbody>\n",
              "    <tr>\n",
              "      <th>Female</th>\n",
              "      <td>88</td>\n",
              "      <td>44</td>\n",
              "      <td>138</td>\n",
              "    </tr>\n",
              "    <tr>\n",
              "      <th>Infant</th>\n",
              "      <td>15</td>\n",
              "      <td>210</td>\n",
              "      <td>35</td>\n",
              "    </tr>\n",
              "    <tr>\n",
              "      <th>Male</th>\n",
              "      <td>79</td>\n",
              "      <td>66</td>\n",
              "      <td>161</td>\n",
              "    </tr>\n",
              "  </tbody>\n",
              "</table>\n",
              "</div>"
            ],
            "text/plain": [
              "        predicted_Female  predicted_Infant  predicted_Male\n",
              "Female                88                44             138\n",
              "Infant                15               210              35\n",
              "Male                  79                66             161"
            ]
          },
          "metadata": {
            "tags": []
          },
          "execution_count": 7
        }
      ]
    },
    {
      "cell_type": "code",
      "metadata": {
        "colab": {
          "base_uri": "https://localhost:8080/"
        },
        "id": "sVNsH3aIlRT1",
        "outputId": "c4527021-224d-4996-c144-55df24a5b102"
      },
      "source": [
        "print('Accuracy Score:', metrics.accuracy_score(y_test, preds))  \n",
        "\n",
        "#Create classification report\n",
        "class_report=classification_report(y_test, preds)\n",
        "print(class_report)"
      ],
      "execution_count": null,
      "outputs": [
        {
          "output_type": "stream",
          "text": [
            "Accuracy Score: 0.5490430622009569\n",
            "              precision    recall  f1-score   support\n",
            "\n",
            "           F       0.48      0.33      0.39       270\n",
            "           I       0.66      0.81      0.72       260\n",
            "           M       0.48      0.53      0.50       306\n",
            "\n",
            "    accuracy                           0.55       836\n",
            "   macro avg       0.54      0.55      0.54       836\n",
            "weighted avg       0.54      0.55      0.54       836\n",
            "\n"
          ],
          "name": "stdout"
        }
      ]
    },
    {
      "cell_type": "markdown",
      "metadata": {
        "id": "OOg-CCT31YP4"
      },
      "source": [
        "Assignment: Create Age variable by grouping abalones with less than 6 rings (<7.5 years old),\n",
        "from 6 to 13 rings (7.5 to 14.5 years old) and more than 13 rings (>14.5 years old) indicating young, adult and old abalones respectively.\n",
        "Construct Multinomial Logistic Regression to classify Age."
      ]
    },
    {
      "cell_type": "code",
      "metadata": {
        "id": "RXWWrtNwvwwj"
      },
      "source": [
        "#Type your code here\n",
        "\n",
        "def group(r):\n",
        "    if r < 6: return 0\n",
        "    elif r <= 13: return 1\n",
        "    else: return 2\n",
        "\n",
        "\n",
        "dummies = pd.DataFrame(pd.get_dummies(abalone_df.SEX, prefix='SEX'))\n",
        "X = dummies.join(abalone_df).drop(['SEX', 'SEX_F', 'RINGS'], axis=1)\n",
        "Y = abalone_df['RINGS'].apply(group).rename('YEARS')\n",
        "\n",
        "X_train, X_test, Y_train, Y_test = sklearn.model_selection.train_test_split(X, Y, test_size = 0.20, random_state = 5)"
      ],
      "execution_count": null,
      "outputs": []
    },
    {
      "cell_type": "code",
      "metadata": {
        "id": "F42LS2gNOybV"
      },
      "source": [
        "model = LogisticRegression(random_state=0, multi_class='multinomial', penalty='none', solver='newton-cg').fit(X_train, Y_train)\n",
        "Y_preds = model.predict(X_test)"
      ],
      "execution_count": null,
      "outputs": []
    },
    {
      "cell_type": "code",
      "metadata": {
        "colab": {
          "base_uri": "https://localhost:8080/",
          "height": 142
        },
        "id": "LcJ-_Ai_R72R",
        "outputId": "a5f08189-4a9c-4bae-a556-e09d749fe154"
      },
      "source": [
        "conf = np.array(confusion_matrix(Y_test, Y_preds))\n",
        "#Create DataFrame from confmtrx array \n",
        "#rows for test: Male, Female, Infant designation as index \n",
        "#columns for preds: male, predicted_female, predicted_infant as column\n",
        "\n",
        "pd.DataFrame(conf, index=['YOUNG','ADULT', 'OLD'],\n",
        "columns=['predicted_YOUNG','predicted_ADULT', 'predicted_OLD'])"
      ],
      "execution_count": null,
      "outputs": [
        {
          "output_type": "execute_result",
          "data": {
            "text/html": [
              "<div>\n",
              "<style scoped>\n",
              "    .dataframe tbody tr th:only-of-type {\n",
              "        vertical-align: middle;\n",
              "    }\n",
              "\n",
              "    .dataframe tbody tr th {\n",
              "        vertical-align: top;\n",
              "    }\n",
              "\n",
              "    .dataframe thead th {\n",
              "        text-align: right;\n",
              "    }\n",
              "</style>\n",
              "<table border=\"1\" class=\"dataframe\">\n",
              "  <thead>\n",
              "    <tr style=\"text-align: right;\">\n",
              "      <th></th>\n",
              "      <th>predicted_YOUNG</th>\n",
              "      <th>predicted_ADULT</th>\n",
              "      <th>predicted_OLD</th>\n",
              "    </tr>\n",
              "  </thead>\n",
              "  <tbody>\n",
              "    <tr>\n",
              "      <th>YOUNG</th>\n",
              "      <td>24</td>\n",
              "      <td>16</td>\n",
              "      <td>0</td>\n",
              "    </tr>\n",
              "    <tr>\n",
              "      <th>ADULT</th>\n",
              "      <td>6</td>\n",
              "      <td>667</td>\n",
              "      <td>19</td>\n",
              "    </tr>\n",
              "    <tr>\n",
              "      <th>OLD</th>\n",
              "      <td>0</td>\n",
              "      <td>71</td>\n",
              "      <td>33</td>\n",
              "    </tr>\n",
              "  </tbody>\n",
              "</table>\n",
              "</div>"
            ],
            "text/plain": [
              "       predicted_YOUNG  predicted_ADULT  predicted_OLD\n",
              "YOUNG               24               16              0\n",
              "ADULT                6              667             19\n",
              "OLD                  0               71             33"
            ]
          },
          "metadata": {
            "tags": []
          },
          "execution_count": 11
        }
      ]
    },
    {
      "cell_type": "code",
      "metadata": {
        "colab": {
          "base_uri": "https://localhost:8080/"
        },
        "id": "75DcnA3xScUK",
        "outputId": "c0865221-8de2-4bdd-83a3-9dc62a812f5b"
      },
      "source": [
        "print('Accuracy Score:', metrics.accuracy_score(Y_test, Y_preds))\n",
        "\n",
        "class_report=classification_report(Y_test, Y_preds)\n",
        "print(class_report)"
      ],
      "execution_count": null,
      "outputs": [
        {
          "output_type": "stream",
          "text": [
            "Accuracy Score: 0.8660287081339713\n",
            "              precision    recall  f1-score   support\n",
            "\n",
            "           0       0.80      0.60      0.69        40\n",
            "           1       0.88      0.96      0.92       692\n",
            "           2       0.63      0.32      0.42       104\n",
            "\n",
            "    accuracy                           0.87       836\n",
            "   macro avg       0.77      0.63      0.68       836\n",
            "weighted avg       0.85      0.87      0.85       836\n",
            "\n"
          ],
          "name": "stdout"
        }
      ]
    },
    {
      "cell_type": "code",
      "metadata": {
        "id": "_TOVIv_uvvZu",
        "colab": {
          "base_uri": "https://localhost:8080/"
        },
        "outputId": "91663da7-cd85-4471-f587-97cb8497c232"
      },
      "source": [
        "#Using stat models\n",
        "logit_model=sm.MNLogit(Y_train,sm.add_constant(X_train))\n",
        "logit_model\n",
        "result=logit_model.fit()\n",
        "stats=result.summary()\n",
        "print(stats)"
      ],
      "execution_count": null,
      "outputs": [
        {
          "output_type": "stream",
          "text": [
            "Optimization terminated successfully.\n",
            "         Current function value: 0.298824\n",
            "         Iterations 14\n",
            "                          MNLogit Regression Results                          \n",
            "==============================================================================\n",
            "Dep. Variable:                  YEARS   No. Observations:                 3341\n",
            "Model:                        MNLogit   Df Residuals:                     3321\n",
            "Method:                           MLE   Df Model:                           18\n",
            "Date:                Mon, 08 Mar 2021   Pseudo R-squ.:                  0.4410\n",
            "Time:                        05:36:41   Log-Likelihood:                -998.37\n",
            "converged:                       True   LL-Null:                       -1786.1\n",
            "Covariance Type:            nonrobust   LLR p-value:                     0.000\n",
            "==============================================================================\n",
            "   YEARS=1       coef    std err          z      P>|z|      [0.025      0.975]\n",
            "------------------------------------------------------------------------------\n",
            "const         -5.8884      1.475     -3.992      0.000      -8.780      -2.997\n",
            "SEX_I          0.6324      0.658      0.962      0.336      -0.657       1.922\n",
            "SEX_M          1.5963      0.755      2.115      0.034       0.117       3.076\n",
            "LENGTH        -5.2185     10.453     -0.499      0.618     -25.705      15.268\n",
            "DIAM          23.0211     12.909      1.783      0.075      -2.279      48.322\n",
            "HEIGHT         6.3111     14.089      0.448      0.654     -21.303      33.926\n",
            "WHOLE         -8.7214      6.804     -1.282      0.200     -22.057       4.614\n",
            "SHUCK         -8.4324      5.870     -1.436      0.151     -19.938       3.074\n",
            "VISCERA        7.0285     19.842      0.354      0.723     -31.862      45.919\n",
            "SHELL         82.6215     22.177      3.726      0.000      39.155     126.088\n",
            "------------------------------------------------------------------------------\n",
            "   YEARS=2       coef    std err          z      P>|z|      [0.025      0.975]\n",
            "------------------------------------------------------------------------------\n",
            "const        -10.1160      1.695     -5.969      0.000     -13.438      -6.794\n",
            "SEX_I          0.3483      0.692      0.503      0.615      -1.009       1.705\n",
            "SEX_M          1.6678      0.768      2.172      0.030       0.163       3.173\n",
            "LENGTH       -13.6848     10.912     -1.254      0.210     -35.071       7.702\n",
            "DIAM          33.9965     13.459      2.526      0.012       7.617      60.376\n",
            "HEIGHT        11.9569     14.217      0.841      0.400     -15.908      39.822\n",
            "WHOLE          0.9678      6.907      0.140      0.889     -12.570      14.506\n",
            "SHUCK        -29.5953      6.087     -4.862      0.000     -41.526     -17.664\n",
            "VISCERA       -0.9666     19.963     -0.048      0.961     -40.094      38.161\n",
            "SHELL         89.8288     22.256      4.036      0.000      46.207     133.450\n",
            "==============================================================================\n"
          ],
          "name": "stdout"
        }
      ]
    },
    {
      "cell_type": "markdown",
      "metadata": {
        "id": "LEG5VsEM-QLi"
      },
      "source": [
        "References:\n",
        "https://www.datasklr.com/logistic-regression/multinomial-logistic-regression"
      ]
    }
  ]
}